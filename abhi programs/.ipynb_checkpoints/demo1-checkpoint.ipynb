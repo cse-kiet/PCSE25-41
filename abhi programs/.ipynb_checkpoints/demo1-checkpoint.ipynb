{
 "cells": [
  {
   "cell_type": "code",
   "execution_count": 1,
   "id": "155fa770",
   "metadata": {},
   "outputs": [
    {
     "name": "stdout",
     "output_type": "stream",
     "text": [
      "   Student ID  Class  Study hrs  Sleeping hrs  Social Media usage hrs  \\\n",
      "0        1001     10          2             9                       3   \n",
      "1        1002     10          6             8                       2   \n",
      "2        1003     10          3             8                       2   \n",
      "3        1004     11          0            10                       1   \n",
      "4        1005     11          4             7                       2   \n",
      "5        1006     11         10             7                       0   \n",
      "6        1007     12          4             6                       0   \n",
      "7        1008     12         10             6                       2   \n",
      "8        1009     12          2             8                       2   \n",
      "9        1010     12          6             9                       1   \n",
      "\n",
      "   Mobile Games hrs  Percantege  \n",
      "0                 5          50  \n",
      "1                 0          80  \n",
      "2                 4          60  \n",
      "3                 5          45  \n",
      "4                 0          75  \n",
      "5                 0          96  \n",
      "6                 0          80  \n",
      "7                 0          90  \n",
      "8                 4          60  \n",
      "9                 0          85  \n",
      "<class 'pandas.core.frame.DataFrame'>\n"
     ]
    }
   ],
   "source": [
    "import pandas as pd\n",
    "import seaborn as sns\n",
    "import matplotlib.pyplot as plt\n",
    "df = pd.read_csv('C:\\\\Users\\\\abhis\\\\Downloads\\\\student_results.csv')\n",
    "print(df)\n",
    "print(type(df))\n",
    "\n",
    "\n"
   ]
  },
  {
   "cell_type": "code",
   "execution_count": 2,
   "id": "b15b2cb5",
   "metadata": {},
   "outputs": [
    {
     "name": "stdout",
     "output_type": "stream",
     "text": [
      "    ID             Name            Industry  Inception       Revenue  \\\n",
      "0  1.0          Lamtone         IT Services     2009.0  $11,757,018    \n",
      "1  2.0        Stripfind  Financial Services     2010.0  $12,329,371    \n",
      "2  3.0  Canecorporation              Health     2012.0  $10,597,009    \n",
      "3  4.0         Mattouch         IT Services     2013.0  $14,026,934    \n",
      "4  5.0        Techdrill            no value     2009.0  $10,573,990    \n",
      "5  6.0         Techline                 NaN     2006.0  $13,898,119    \n",
      "6  7.0          Cityace                 NaN     2010.0   $9,254,614    \n",
      "7  8.0   Kayelectronics                 NaN     2009.0   $9,451,943    \n",
      "8  9.0          Ganzlax         IT Services     2011.0  $14,001,180    \n",
      "9  NaN              NaN                 NaN        NaN           NaN   \n",
      "\n",
      "            Expenses      Profit Growth  \n",
      "0  6,482,465 Dollars   5274553.0    30%  \n",
      "1    916,455 Dollars  11412916.0    20%  \n",
      "2  7,591,189 Dollars   3005820.0    NaN  \n",
      "3  7,429,377 Dollars   6597557.0    NaN  \n",
      "4  7,435,363 Dollars   3138627.0    NaN  \n",
      "5  5,470,303 Dollars   8427816.0    NaN  \n",
      "6  6,249,498 Dollars   3005116.0     6%  \n",
      "7  3,878,113 Dollars   5573830.0     4%  \n",
      "8                NaN  11901180.0    18%  \n",
      "9                NaN         NaN    NaN  \n"
     ]
    }
   ],
   "source": [
    "df1=pd.read_csv('C:\\\\Users\\\\abhis\\\\Downloads\\\\Fortune_10.csv')\n",
    "print(df1)"
   ]
  },
  {
   "cell_type": "code",
   "execution_count": 3,
   "id": "d7b2ee07",
   "metadata": {},
   "outputs": [
    {
     "data": {
      "text/plain": [
       "pandas.core.frame.DataFrame"
      ]
     },
     "execution_count": 3,
     "metadata": {},
     "output_type": "execute_result"
    }
   ],
   "source": [
    "type(df1)"
   ]
  },
  {
   "cell_type": "code",
   "execution_count": 4,
   "id": "748a1473",
   "metadata": {},
   "outputs": [
    {
     "data": {
      "text/plain": [
       "Index(['ID', 'Name', 'Industry', 'Inception', 'Revenue', 'Expenses', 'Profit',\n",
       "       'Growth'],\n",
       "      dtype='object')"
      ]
     },
     "execution_count": 4,
     "metadata": {},
     "output_type": "execute_result"
    }
   ],
   "source": [
    "df1.columns"
   ]
  },
  {
   "cell_type": "code",
   "execution_count": 5,
   "id": "af7c0b22",
   "metadata": {},
   "outputs": [
    {
     "name": "stdout",
     "output_type": "stream",
     "text": [
      "   ID             Name            Industry  Inception       Revenue  \\\n",
      "0   1          Lamtone         IT Services       2009  $11,757,018    \n",
      "1   2        Stripfind  Financial Services       2010  $12,329,371    \n",
      "2   3  Canecorporation              Health       2012  $10,597,009    \n",
      "3   4         Mattouch         IT Services       2013  $14,026,934    \n",
      "4   5        Techdrill            no value       2009  $10,573,990    \n",
      "\n",
      "            Expenses    Profit Growth  \n",
      "0  6,482,465 Dollars   5274553    30%  \n",
      "1    916,455 Dollars  11412916    20%  \n",
      "2  7,591,189 Dollars   3005820    NaN  \n",
      "3  7,429,377 Dollars   6597557    NaN  \n",
      "4  7,435,363 Dollars   3138627    NaN  \n"
     ]
    }
   ],
   "source": [
    "df1=pd.read_csv('C:\\\\Users\\\\abhis\\\\Downloads\\\\Fortune_10.csv', nrows=5)\n",
    "print(df1)"
   ]
  },
  {
   "cell_type": "code",
   "execution_count": 6,
   "id": "a4df0da3",
   "metadata": {},
   "outputs": [
    {
     "name": "stdout",
     "output_type": "stream",
     "text": [
      "    ID\n",
      "0  1.0\n",
      "1  2.0\n",
      "2  3.0\n",
      "3  4.0\n",
      "4  5.0\n",
      "5  6.0\n",
      "6  7.0\n",
      "7  8.0\n",
      "8  9.0\n",
      "9  NaN\n"
     ]
    }
   ],
   "source": [
    "df1=pd.read_csv('C:\\\\Users\\\\abhis\\\\Downloads\\\\Fortune_10.csv', usecols=[0])\n",
    "print(df1)"
   ]
  },
  {
   "cell_type": "code",
   "execution_count": 7,
   "id": "6e0dc567",
   "metadata": {},
   "outputs": [
    {
     "name": "stdout",
     "output_type": "stream",
     "text": [
      "    ID             Name            Industry  Inception       Revenue  \\\n",
      "0  1.0          Lamtone         IT Services     2009.0  $11,757,018    \n",
      "1  2.0        Stripfind  Financial Services     2010.0  $12,329,371    \n",
      "2  3.0  Canecorporation              Health     2012.0  $10,597,009    \n",
      "3  4.0         Mattouch         IT Services     2013.0  $14,026,934    \n",
      "4  5.0        Techdrill                 NaN     2009.0  $10,573,990    \n",
      "5  6.0         Techline                 NaN     2006.0  $13,898,119    \n",
      "6  7.0          Cityace                 NaN     2010.0   $9,254,614    \n",
      "7  8.0   Kayelectronics                 NaN     2009.0   $9,451,943    \n",
      "8  9.0          Ganzlax         IT Services     2011.0  $14,001,180    \n",
      "9  NaN              NaN                 NaN        NaN           NaN   \n",
      "\n",
      "            Expenses      Profit Growth  \n",
      "0  6,482,465 Dollars   5274553.0    30%  \n",
      "1    916,455 Dollars  11412916.0    20%  \n",
      "2  7,591,189 Dollars   3005820.0    NaN  \n",
      "3  7,429,377 Dollars   6597557.0    NaN  \n",
      "4  7,435,363 Dollars   3138627.0    NaN  \n",
      "5  5,470,303 Dollars   8427816.0    NaN  \n",
      "6  6,249,498 Dollars   3005116.0     6%  \n",
      "7  3,878,113 Dollars   5573830.0     4%  \n",
      "8                NaN  11901180.0    18%  \n",
      "9                NaN         NaN    NaN  \n"
     ]
    }
   ],
   "source": [
    "df1=pd.read_csv('C:\\\\Users\\\\abhis\\\\Downloads\\\\Fortune_10.csv', na_values= ['non available','no value'])\n",
    "print(df1)"
   ]
  },
  {
   "cell_type": "code",
   "execution_count": 8,
   "id": "bef540f7",
   "metadata": {},
   "outputs": [
    {
     "name": "stdout",
     "output_type": "stream",
     "text": [
      "    ID             Name            Industry  Inception       Revenue  \\\n",
      "0  1.0          Lamtone         IT Services     2009.0  $11,757,018    \n",
      "1  2.0        Stripfind  Financial Services     2010.0  $12,329,371    \n",
      "2  3.0  Canecorporation              Health     2012.0  $10,597,009    \n",
      "3  4.0         Mattouch         IT Services     2013.0  $14,026,934    \n",
      "4  5.0        Techdrill            no value     2009.0  $10,573,990    \n",
      "5  6.0         Techline                 NaN     2006.0  $13,898,119    \n",
      "6  7.0          Cityace                 NaN     2010.0   $9,254,614    \n",
      "7  8.0   Kayelectronics                 NaN     2009.0   $9,451,943    \n",
      "8  9.0          Ganzlax         IT Services     2011.0  $14,001,180    \n",
      "9  NaN              NaN                 NaN        NaN           NaN   \n",
      "\n",
      "            Expenses      Profit Growth  \n",
      "0  6,482,465 Dollars   5274553.0    30%  \n",
      "1    916,455 Dollars  11412916.0    20%  \n",
      "2  7,591,189 Dollars   3005820.0    NaN  \n",
      "3  7,429,377 Dollars   6597557.0    NaN  \n",
      "4  7,435,363 Dollars   3138627.0    NaN  \n",
      "5  5,470,303 Dollars   8427816.0    NaN  \n",
      "6  6,249,498 Dollars   3005116.0     6%  \n",
      "7  3,878,113 Dollars   5573830.0     4%  \n",
      "8                NaN  11901180.0    18%  \n",
      "9                NaN         NaN    NaN  \n"
     ]
    }
   ],
   "source": [
    "df1=pd.read_csv('C:\\\\Users\\\\abhis\\\\Downloads\\\\Fortune_10.csv', na_values= {'industry':'no value'})\n",
    "print(df1)"
   ]
  },
  {
   "cell_type": "code",
   "execution_count": 9,
   "id": "b4be3ac8",
   "metadata": {},
   "outputs": [
    {
     "name": "stdout",
     "output_type": "stream",
     "text": [
      "  Top 10 IT Companies in India\n",
      "0                          TCS\n",
      "1                      Infosys\n",
      "2                Tech Mahindra\n",
      "3                        Wipro\n",
      "4             HCL Technologies\n",
      "5                 L&T Infotech\n",
      "6                     Mindtree\n",
      "7                      Mphasis\n",
      "8    Oracle Financial Services\n",
      "9                  Rotla India\n"
     ]
    }
   ],
   "source": [
    "df2=pd.read_csv('C:\\\\Users\\\\abhis\\\\Downloads\\\\Top-10-IT-Companies-in-India.csv')\n",
    "print(df2)"
   ]
  },
  {
   "cell_type": "code",
   "execution_count": 10,
   "id": "0d83f521",
   "metadata": {},
   "outputs": [
    {
     "name": "stdout",
     "output_type": "stream",
     "text": [
      "              Name            Industry\n",
      "0          Lamtone         IT Services\n",
      "1        Stripfind  Financial Services\n",
      "2  Canecorporation              Health\n",
      "3         Mattouch         IT Services\n",
      "4        Techdrill            no value\n",
      "5         Techline                 NaN\n",
      "6          Cityace                 NaN\n",
      "7   Kayelectronics                 NaN\n",
      "8          Ganzlax         IT Services\n",
      "9              NaN                 NaN\n"
     ]
    }
   ],
   "source": [
    "df1=pd.read_csv('C:\\\\Users\\\\abhis\\\\Downloads\\\\Fortune_10.csv', usecols=[1,2])\n",
    "print(df1)"
   ]
  },
  {
   "cell_type": "code",
   "execution_count": 11,
   "id": "885b4495",
   "metadata": {},
   "outputs": [
    {
     "name": "stdout",
     "output_type": "stream",
     "text": [
      "             Industry       Revenue\n",
      "0         IT Services  $11,757,018 \n",
      "1  Financial Services  $12,329,371 \n",
      "2              Health  $10,597,009 \n",
      "3         IT Services  $14,026,934 \n",
      "4            no value  $10,573,990 \n",
      "5                 NaN  $13,898,119 \n",
      "6                 NaN   $9,254,614 \n",
      "7                 NaN   $9,451,943 \n",
      "8         IT Services  $14,001,180 \n",
      "9                 NaN           NaN\n"
     ]
    }
   ],
   "source": [
    "df1=pd.read_csv('C:\\\\Users\\\\abhis\\\\Downloads\\\\Fortune_10.csv', usecols=[2,4])\n",
    "print(df1)"
   ]
  },
  {
   "cell_type": "code",
   "execution_count": 12,
   "id": "ca53a68e",
   "metadata": {},
   "outputs": [
    {
     "name": "stdout",
     "output_type": "stream",
     "text": [
      "     1          Lamtone         IT Services    2009  $11,757,018   \\\n",
      "0  2.0        Stripfind  Financial Services  2010.0  $12,329,371    \n",
      "1  3.0  Canecorporation              Health  2012.0  $10,597,009    \n",
      "2  4.0         Mattouch         IT Services  2013.0  $14,026,934    \n",
      "3  5.0        Techdrill            no value  2009.0  $10,573,990    \n",
      "4  6.0         Techline                 NaN  2006.0  $13,898,119    \n",
      "5  7.0          Cityace                 NaN  2010.0   $9,254,614    \n",
      "6  8.0   Kayelectronics                 NaN  2009.0   $9,451,943    \n",
      "7  9.0          Ganzlax         IT Services  2011.0  $14,001,180    \n",
      "8  NaN              NaN                 NaN     NaN           NaN   \n",
      "\n",
      "   6,482,465 Dollars     5274553  30%  \n",
      "0    916,455 Dollars  11412916.0  20%  \n",
      "1  7,591,189 Dollars   3005820.0  NaN  \n",
      "2  7,429,377 Dollars   6597557.0  NaN  \n",
      "3  7,435,363 Dollars   3138627.0  NaN  \n",
      "4  5,470,303 Dollars   8427816.0  NaN  \n",
      "5  6,249,498 Dollars   3005116.0   6%  \n",
      "6  3,878,113 Dollars   5573830.0   4%  \n",
      "7                NaN  11901180.0  18%  \n",
      "8                NaN         NaN  NaN  \n"
     ]
    }
   ],
   "source": [
    "df1=pd.read_csv('C:\\\\Users\\\\abhis\\\\Downloads\\\\Fortune_10.csv', skiprows=1)\n",
    "print(df1)"
   ]
  },
  {
   "cell_type": "code",
   "execution_count": 13,
   "id": "13ae00a3",
   "metadata": {},
   "outputs": [
    {
     "name": "stdout",
     "output_type": "stream",
     "text": [
      "     2        Stripfind Financial Services    2010  $12,329,371   \\\n",
      "0  3.0  Canecorporation             Health  2012.0  $10,597,009    \n",
      "1  4.0         Mattouch        IT Services  2013.0  $14,026,934    \n",
      "2  5.0        Techdrill           no value  2009.0  $10,573,990    \n",
      "3  6.0         Techline                NaN  2006.0  $13,898,119    \n",
      "4  7.0          Cityace                NaN  2010.0   $9,254,614    \n",
      "5  8.0   Kayelectronics                NaN  2009.0   $9,451,943    \n",
      "6  9.0          Ganzlax        IT Services  2011.0  $14,001,180    \n",
      "7  NaN              NaN                NaN     NaN           NaN   \n",
      "\n",
      "     916,455 Dollars    11412916  20%  \n",
      "0  7,591,189 Dollars   3005820.0  NaN  \n",
      "1  7,429,377 Dollars   6597557.0  NaN  \n",
      "2  7,435,363 Dollars   3138627.0  NaN  \n",
      "3  5,470,303 Dollars   8427816.0  NaN  \n",
      "4  6,249,498 Dollars   3005116.0   6%  \n",
      "5  3,878,113 Dollars   5573830.0   4%  \n",
      "6                NaN  11901180.0  18%  \n",
      "7                NaN         NaN  NaN  \n"
     ]
    }
   ],
   "source": [
    "df1=pd.read_csv('C:\\\\Users\\\\abhis\\\\Downloads\\\\Fortune_10.csv', skiprows=2)\n",
    "print(df1)"
   ]
  },
  {
   "cell_type": "code",
   "execution_count": 14,
   "id": "d7d0f5cc",
   "metadata": {},
   "outputs": [
    {
     "name": "stdout",
     "output_type": "stream",
     "text": [
      "     1          Lamtone         IT Services    2009  $11,757,018   \\\n",
      "0  2.0        Stripfind  Financial Services  2010.0  $12,329,371    \n",
      "1  3.0  Canecorporation              Health  2012.0  $10,597,009    \n",
      "2  4.0         Mattouch         IT Services  2013.0  $14,026,934    \n",
      "3  5.0        Techdrill            no value  2009.0  $10,573,990    \n",
      "4  6.0         Techline                 NaN  2006.0  $13,898,119    \n",
      "5  7.0          Cityace                 NaN  2010.0   $9,254,614    \n",
      "6  8.0   Kayelectronics                 NaN  2009.0   $9,451,943    \n",
      "7  9.0          Ganzlax         IT Services  2011.0  $14,001,180    \n",
      "8  NaN              NaN                 NaN     NaN           NaN   \n",
      "\n",
      "   6,482,465 Dollars     5274553  30%  \n",
      "0    916,455 Dollars  11412916.0  20%  \n",
      "1  7,591,189 Dollars   3005820.0  NaN  \n",
      "2  7,429,377 Dollars   6597557.0  NaN  \n",
      "3  7,435,363 Dollars   3138627.0  NaN  \n",
      "4  5,470,303 Dollars   8427816.0  NaN  \n",
      "5  6,249,498 Dollars   3005116.0   6%  \n",
      "6  3,878,113 Dollars   5573830.0   4%  \n",
      "7                NaN  11901180.0  18%  \n",
      "8                NaN         NaN  NaN  \n"
     ]
    }
   ],
   "source": [
    "df1=pd.read_csv('C:\\\\Users\\\\abhis\\\\Downloads\\\\Fortune_10.csv', skiprows=[0])\n",
    "print(df1)"
   ]
  },
  {
   "cell_type": "code",
   "execution_count": 15,
   "id": "c35b745f",
   "metadata": {},
   "outputs": [
    {
     "name": "stdout",
     "output_type": "stream",
     "text": [
      "                Name            Industry  Inception       Revenue  \\\n",
      "ID                                                                  \n",
      "1.0          Lamtone         IT Services     2009.0  $11,757,018    \n",
      "2.0        Stripfind  Financial Services     2010.0  $12,329,371    \n",
      "3.0  Canecorporation              Health     2012.0  $10,597,009    \n",
      "4.0         Mattouch         IT Services     2013.0  $14,026,934    \n",
      "5.0        Techdrill            no value     2009.0  $10,573,990    \n",
      "6.0         Techline                 NaN     2006.0  $13,898,119    \n",
      "7.0          Cityace                 NaN     2010.0   $9,254,614    \n",
      "8.0   Kayelectronics                 NaN     2009.0   $9,451,943    \n",
      "9.0          Ganzlax         IT Services     2011.0  $14,001,180    \n",
      "NaN              NaN                 NaN        NaN           NaN   \n",
      "\n",
      "              Expenses      Profit Growth  \n",
      "ID                                         \n",
      "1.0  6,482,465 Dollars   5274553.0    30%  \n",
      "2.0    916,455 Dollars  11412916.0    20%  \n",
      "3.0  7,591,189 Dollars   3005820.0    NaN  \n",
      "4.0  7,429,377 Dollars   6597557.0    NaN  \n",
      "5.0  7,435,363 Dollars   3138627.0    NaN  \n",
      "6.0  5,470,303 Dollars   8427816.0    NaN  \n",
      "7.0  6,249,498 Dollars   3005116.0     6%  \n",
      "8.0  3,878,113 Dollars   5573830.0     4%  \n",
      "9.0                NaN  11901180.0    18%  \n",
      "NaN                NaN         NaN    NaN  \n"
     ]
    }
   ],
   "source": [
    "df1=pd.read_csv('C:\\\\Users\\\\abhis\\\\Downloads\\\\Fortune_10.csv', index_col='ID')\n",
    "print(df1)"
   ]
  },
  {
   "cell_type": "code",
   "execution_count": 16,
   "id": "5a092f44",
   "metadata": {},
   "outputs": [
    {
     "name": "stdout",
     "output_type": "stream",
     "text": [
      "                  ID            Industry  Inception       Revenue  \\\n",
      "Name                                                                \n",
      "Lamtone          1.0         IT Services     2009.0  $11,757,018    \n",
      "Stripfind        2.0  Financial Services     2010.0  $12,329,371    \n",
      "Canecorporation  3.0              Health     2012.0  $10,597,009    \n",
      "Mattouch         4.0         IT Services     2013.0  $14,026,934    \n",
      "Techdrill        5.0            no value     2009.0  $10,573,990    \n",
      "Techline         6.0                 NaN     2006.0  $13,898,119    \n",
      "Cityace          7.0                 NaN     2010.0   $9,254,614    \n",
      "Kayelectronics   8.0                 NaN     2009.0   $9,451,943    \n",
      "Ganzlax          9.0         IT Services     2011.0  $14,001,180    \n",
      "NaN              NaN                 NaN        NaN           NaN   \n",
      "\n",
      "                          Expenses      Profit Growth  \n",
      "Name                                                   \n",
      "Lamtone          6,482,465 Dollars   5274553.0    30%  \n",
      "Stripfind          916,455 Dollars  11412916.0    20%  \n",
      "Canecorporation  7,591,189 Dollars   3005820.0    NaN  \n",
      "Mattouch         7,429,377 Dollars   6597557.0    NaN  \n",
      "Techdrill        7,435,363 Dollars   3138627.0    NaN  \n",
      "Techline         5,470,303 Dollars   8427816.0    NaN  \n",
      "Cityace          6,249,498 Dollars   3005116.0     6%  \n",
      "Kayelectronics   3,878,113 Dollars   5573830.0     4%  \n",
      "Ganzlax                        NaN  11901180.0    18%  \n",
      "NaN                            NaN         NaN    NaN  \n"
     ]
    }
   ],
   "source": [
    "df1=pd.read_csv('C:\\\\Users\\\\abhis\\\\Downloads\\\\Fortune_10.csv', index_col= 'Name')\n",
    "print(df1)"
   ]
  },
  {
   "cell_type": "code",
   "execution_count": null,
   "id": "77b387a0",
   "metadata": {},
   "outputs": [],
   "source": []
  },
  {
   "cell_type": "code",
   "execution_count": null,
   "id": "f6dbfbd1",
   "metadata": {},
   "outputs": [],
   "source": []
  },
  {
   "cell_type": "raw",
   "id": "7bd64356",
   "metadata": {},
   "source": []
  },
  {
   "cell_type": "code",
   "execution_count": 17,
   "id": "63e20ddf",
   "metadata": {},
   "outputs": [
    {
     "data": {
      "image/png": "[encoded data removed]",
      "text/plain": [
       "<Figure size 1440x576 with 1 Axes>"
      ]
     },
     "metadata": {
      "needs_background": "light"
     },
     "output_type": "display_data"
    }
   ],
   "source": [
    "import seaborn as sns\n",
    "import matplotlib.pyplot as plt\n",
    "plt.figure(figsize= (20,8))\n",
    "sns.countplot(x='Class',data =df)\n",
    "plt.grid()\n",
    "plt.show()\n",
    "\n",
    "\n"
   ]
  },
  {
   "cell_type": "code",
   "execution_count": 18,
   "id": "329be48a",
   "metadata": {},
   "outputs": [
    {
     "data": {
      "image/png": "[encoded data removed]",
      "text/plain": [
       "<Figure size 1440x576 with 1 Axes>"
      ]
     },
     "metadata": {
      "needs_background": "light"
     },
     "output_type": "display_data"
    }
   ],
   "source": [
    "plt.figure(figsize= (20,8))\n",
    "sns.countplot(y='Class',data =df)\n",
    "plt.grid()\n",
    "plt.show()"
   ]
  },
  {
   "cell_type": "code",
   "execution_count": 19,
   "id": "78ca8f18",
   "metadata": {},
   "outputs": [
    {
     "data": {
      "image/png": "[encoded data removed]",
      "text/plain": [
       "<Figure size 1296x360 with 1 Axes>"
      ]
     },
     "metadata": {
      "needs_background": "light"
     },
     "output_type": "display_data"
    }
   ],
   "source": [
    "plt.figure(figsize= (18,5))\n",
    "sns.countplot(x='Sleeping hrs',data =df, hue='Class')\n",
    "plt.grid()\n",
    "plt.show()"
   ]
  },
  {
   "cell_type": "code",
   "execution_count": 20,
   "id": "8054384a",
   "metadata": {},
   "outputs": [
    {
     "data": {
      "image/png": "[encoded data removed]",
      "text/plain": [
       "<Figure size 1296x360 with 1 Axes>"
      ]
     },
     "metadata": {
      "needs_background": "light"
     },
     "output_type": "display_data"
    }
   ],
   "source": [
    "plt.figure(figsize= (18,5))\n",
    "sns.countplot(y='Social Media usage hrs',data =df, hue='Class')\n",
    "plt.grid()\n",
    "plt.show()"
   ]
  },
  {
   "cell_type": "code",
   "execution_count": 21,
   "id": "d74f42be",
   "metadata": {},
   "outputs": [
    {
     "data": {
      "text/html": [
       "<div>\n",
       "<style scoped>\n",
       "    .dataframe tbody tr th:only-of-type {\n",
       "        vertical-align: middle;\n",
       "    }\n",
       "\n",
       "    .dataframe tbody tr th {\n",
       "        vertical-align: top;\n",
       "    }\n",
       "\n",
       "    .dataframe thead th {\n",
       "        text-align: right;\n",
       "    }\n",
       "</style>\n",
       "<table border=\"1\" class=\"dataframe\">\n",
       "  <thead>\n",
       "    <tr style=\"text-align: right;\">\n",
       "      <th></th>\n",
       "      <th>Student ID</th>\n",
       "      <th>Class</th>\n",
       "      <th>Study hrs</th>\n",
       "      <th>Sleeping hrs</th>\n",
       "      <th>Social Media usage hrs</th>\n",
       "      <th>Mobile Games hrs</th>\n",
       "      <th>Percantege</th>\n",
       "    </tr>\n",
       "  </thead>\n",
       "  <tbody>\n",
       "    <tr>\n",
       "      <th>count</th>\n",
       "      <td>10.00000</td>\n",
       "      <td>10.000000</td>\n",
       "      <td>10.000</td>\n",
       "      <td>10.000000</td>\n",
       "      <td>10.000000</td>\n",
       "      <td>10.000000</td>\n",
       "      <td>10.000000</td>\n",
       "    </tr>\n",
       "    <tr>\n",
       "      <th>mean</th>\n",
       "      <td>1005.50000</td>\n",
       "      <td>11.100000</td>\n",
       "      <td>4.700</td>\n",
       "      <td>7.800000</td>\n",
       "      <td>1.500000</td>\n",
       "      <td>1.800000</td>\n",
       "      <td>72.100000</td>\n",
       "    </tr>\n",
       "    <tr>\n",
       "      <th>std</th>\n",
       "      <td>3.02765</td>\n",
       "      <td>0.875595</td>\n",
       "      <td>3.335</td>\n",
       "      <td>1.316561</td>\n",
       "      <td>0.971825</td>\n",
       "      <td>2.347576</td>\n",
       "      <td>17.342626</td>\n",
       "    </tr>\n",
       "    <tr>\n",
       "      <th>min</th>\n",
       "      <td>1001.00000</td>\n",
       "      <td>10.000000</td>\n",
       "      <td>0.000</td>\n",
       "      <td>6.000000</td>\n",
       "      <td>0.000000</td>\n",
       "      <td>0.000000</td>\n",
       "      <td>45.000000</td>\n",
       "    </tr>\n",
       "    <tr>\n",
       "      <th>25%</th>\n",
       "      <td>1003.25000</td>\n",
       "      <td>10.250000</td>\n",
       "      <td>2.250</td>\n",
       "      <td>7.000000</td>\n",
       "      <td>1.000000</td>\n",
       "      <td>0.000000</td>\n",
       "      <td>60.000000</td>\n",
       "    </tr>\n",
       "    <tr>\n",
       "      <th>50%</th>\n",
       "      <td>1005.50000</td>\n",
       "      <td>11.000000</td>\n",
       "      <td>4.000</td>\n",
       "      <td>8.000000</td>\n",
       "      <td>2.000000</td>\n",
       "      <td>0.000000</td>\n",
       "      <td>77.500000</td>\n",
       "    </tr>\n",
       "    <tr>\n",
       "      <th>75%</th>\n",
       "      <td>1007.75000</td>\n",
       "      <td>12.000000</td>\n",
       "      <td>6.000</td>\n",
       "      <td>8.750000</td>\n",
       "      <td>2.000000</td>\n",
       "      <td>4.000000</td>\n",
       "      <td>83.750000</td>\n",
       "    </tr>\n",
       "    <tr>\n",
       "      <th>max</th>\n",
       "      <td>1010.00000</td>\n",
       "      <td>12.000000</td>\n",
       "      <td>10.000</td>\n",
       "      <td>10.000000</td>\n",
       "      <td>3.000000</td>\n",
       "      <td>5.000000</td>\n",
       "      <td>96.000000</td>\n",
       "    </tr>\n",
       "  </tbody>\n",
       "</table>\n",
       "</div>"
      ],
      "text/plain": [
       "       Student ID      Class  Study hrs  Sleeping hrs  Social Media usage hrs  \\\n",
       "count    10.00000  10.000000     10.000     10.000000               10.000000   \n",
       "mean   1005.50000  11.100000      4.700      7.800000                1.500000   \n",
       "std       3.02765   0.875595      3.335      1.316561                0.971825   \n",
       "min    1001.00000  10.000000      0.000      6.000000                0.000000   \n",
       "25%    1003.25000  10.250000      2.250      7.000000                1.000000   \n",
       "50%    1005.50000  11.000000      4.000      8.000000                2.000000   \n",
       "75%    1007.75000  12.000000      6.000      8.750000                2.000000   \n",
       "max    1010.00000  12.000000     10.000     10.000000                3.000000   \n",
       "\n",
       "       Mobile Games hrs  Percantege  \n",
       "count         10.000000   10.000000  \n",
       "mean           1.800000   72.100000  \n",
       "std            2.347576   17.342626  \n",
       "min            0.000000   45.000000  \n",
       "25%            0.000000   60.000000  \n",
       "50%            0.000000   77.500000  \n",
       "75%            4.000000   83.750000  \n",
       "max            5.000000   96.000000  "
      ]
     },
     "execution_count": 21,
     "metadata": {},
     "output_type": "execute_result"
    }
   ],
   "source": [
    "df.describe()"
   ]
  },
  {
   "cell_type": "code",
   "execution_count": 22,
   "id": "ed527ad3",
   "metadata": {},
   "outputs": [
    {
     "data": {
      "text/html": [
       "<div>\n",
       "<style scoped>\n",
       "    .dataframe tbody tr th:only-of-type {\n",
       "        vertical-align: middle;\n",
       "    }\n",
       "\n",
       "    .dataframe tbody tr th {\n",
       "        vertical-align: top;\n",
       "    }\n",
       "\n",
       "    .dataframe thead th {\n",
       "        text-align: right;\n",
       "    }\n",
       "</style>\n",
       "<table border=\"1\" class=\"dataframe\">\n",
       "  <thead>\n",
       "    <tr style=\"text-align: right;\">\n",
       "      <th></th>\n",
       "      <th>Student ID</th>\n",
       "      <th>Class</th>\n",
       "      <th>Study hrs</th>\n",
       "      <th>Sleeping hrs</th>\n",
       "      <th>Social Media usage hrs</th>\n",
       "      <th>Mobile Games hrs</th>\n",
       "      <th>Percantege</th>\n",
       "    </tr>\n",
       "  </thead>\n",
       "  <tbody>\n",
       "    <tr>\n",
       "      <th>0</th>\n",
       "      <td>False</td>\n",
       "      <td>False</td>\n",
       "      <td>False</td>\n",
       "      <td>False</td>\n",
       "      <td>False</td>\n",
       "      <td>False</td>\n",
       "      <td>False</td>\n",
       "    </tr>\n",
       "    <tr>\n",
       "      <th>1</th>\n",
       "      <td>False</td>\n",
       "      <td>False</td>\n",
       "      <td>False</td>\n",
       "      <td>False</td>\n",
       "      <td>False</td>\n",
       "      <td>False</td>\n",
       "      <td>False</td>\n",
       "    </tr>\n",
       "    <tr>\n",
       "      <th>2</th>\n",
       "      <td>False</td>\n",
       "      <td>False</td>\n",
       "      <td>False</td>\n",
       "      <td>False</td>\n",
       "      <td>False</td>\n",
       "      <td>False</td>\n",
       "      <td>False</td>\n",
       "    </tr>\n",
       "    <tr>\n",
       "      <th>3</th>\n",
       "      <td>False</td>\n",
       "      <td>False</td>\n",
       "      <td>False</td>\n",
       "      <td>False</td>\n",
       "      <td>False</td>\n",
       "      <td>False</td>\n",
       "      <td>False</td>\n",
       "    </tr>\n",
       "    <tr>\n",
       "      <th>4</th>\n",
       "      <td>False</td>\n",
       "      <td>False</td>\n",
       "      <td>False</td>\n",
       "      <td>False</td>\n",
       "      <td>False</td>\n",
       "      <td>False</td>\n",
       "      <td>False</td>\n",
       "    </tr>\n",
       "    <tr>\n",
       "      <th>5</th>\n",
       "      <td>False</td>\n",
       "      <td>False</td>\n",
       "      <td>False</td>\n",
       "      <td>False</td>\n",
       "      <td>False</td>\n",
       "      <td>False</td>\n",
       "      <td>False</td>\n",
       "    </tr>\n",
       "    <tr>\n",
       "      <th>6</th>\n",
       "      <td>False</td>\n",
       "      <td>False</td>\n",
       "      <td>False</td>\n",
       "      <td>False</td>\n",
       "      <td>False</td>\n",
       "      <td>False</td>\n",
       "      <td>False</td>\n",
       "    </tr>\n",
       "    <tr>\n",
       "      <th>7</th>\n",
       "      <td>False</td>\n",
       "      <td>False</td>\n",
       "      <td>False</td>\n",
       "      <td>False</td>\n",
       "      <td>False</td>\n",
       "      <td>False</td>\n",
       "      <td>False</td>\n",
       "    </tr>\n",
       "    <tr>\n",
       "      <th>8</th>\n",
       "      <td>False</td>\n",
       "      <td>False</td>\n",
       "      <td>False</td>\n",
       "      <td>False</td>\n",
       "      <td>False</td>\n",
       "      <td>False</td>\n",
       "      <td>False</td>\n",
       "    </tr>\n",
       "    <tr>\n",
       "      <th>9</th>\n",
       "      <td>False</td>\n",
       "      <td>False</td>\n",
       "      <td>False</td>\n",
       "      <td>False</td>\n",
       "      <td>False</td>\n",
       "      <td>False</td>\n",
       "      <td>False</td>\n",
       "    </tr>\n",
       "  </tbody>\n",
       "</table>\n",
       "</div>"
      ],
      "text/plain": [
       "   Student ID  Class  Study hrs  Sleeping hrs  Social Media usage hrs  \\\n",
       "0       False  False      False         False                   False   \n",
       "1       False  False      False         False                   False   \n",
       "2       False  False      False         False                   False   \n",
       "3       False  False      False         False                   False   \n",
       "4       False  False      False         False                   False   \n",
       "5       False  False      False         False                   False   \n",
       "6       False  False      False         False                   False   \n",
       "7       False  False      False         False                   False   \n",
       "8       False  False      False         False                   False   \n",
       "9       False  False      False         False                   False   \n",
       "\n",
       "   Mobile Games hrs  Percantege  \n",
       "0             False       False  \n",
       "1             False       False  \n",
       "2             False       False  \n",
       "3             False       False  \n",
       "4             False       False  \n",
       "5             False       False  \n",
       "6             False       False  \n",
       "7             False       False  \n",
       "8             False       False  \n",
       "9             False       False  "
      ]
     },
     "execution_count": 22,
     "metadata": {},
     "output_type": "execute_result"
    }
   ],
   "source": [
    "df.isnull()"
   ]
  },
  {
   "cell_type": "code",
   "execution_count": 23,
   "id": "e3ed5873",
   "metadata": {},
   "outputs": [
    {
     "data": {
      "text/plain": [
       "Student ID                0\n",
       "Class                     0\n",
       "Study hrs                 0\n",
       "Sleeping hrs              0\n",
       "Social Media usage hrs    0\n",
       "Mobile Games hrs          0\n",
       "Percantege                0\n",
       "dtype: int64"
      ]
     },
     "execution_count": 23,
     "metadata": {},
     "output_type": "execute_result"
    }
   ],
   "source": [
    "df.isnull().sum()"
   ]
  },
  {
   "cell_type": "code",
   "execution_count": null,
   "id": "a161c85d",
   "metadata": {},
   "outputs": [],
   "source": []
  }
 ],
 "metadata": {
  "kernelspec": {
   "display_name": "Python 3 (ipykernel)",
   "language": "python",
   "name": "python3"
  },
  "language_info": {
   "codemirror_mode": {
    "name": "ipython",
    "version": 3
   },
   "file_extension": ".py",
   "mimetype": "text/x-python",
   "name": "python",
   "nbconvert_exporter": "python",
   "pygments_lexer": "ipython3",
   "version": "3.9.12"
  }
 },
 "nbformat": 4,
 "nbformat_minor": 5
}
